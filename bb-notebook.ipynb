{
 "cells": [
  {
   "cell_type": "markdown",
   "id": "casual-punishment",
   "metadata": {},
   "source": [
    "I want to efficiently go to a baseball game at every MLB stadium. The introduction of a multi-option schedule changes the problem from a plain traveling salesman problem to a kind of traveling salesman with time windows problem. Time is an important factor in this problem because the most efficient solution by distance may end up taking weeks due to the need to wait for a game to be played at a particular stadium.  Distance is also important because the most efficient in time might have you traveling back and forth across the country several times. This notebook sets up a number of parameters such as the start and end date of the tour, the teams to start or end with, assumptions about how many miles you are willing to travel each day, and how to weigh the total time vs distance traveled. \n",
    "\n",
    "The approach is to read in all the games matching the input parameters. A matrix is created that maps each game to the next reachable game at every other stadium. A minizinc model is then executed to find the optinmal path of games that each have a different team with minimal cost w.r.t. the configured distance and time coefficient. "
   ]
  },
  {
   "cell_type": "markdown",
   "id": "amazing-spring",
   "metadata": {},
   "source": [
    "Configuration"
   ]
  },
  {
   "cell_type": "code",
   "execution_count": 4,
   "id": "treated-section",
   "metadata": {},
   "outputs": [
    {
     "data": {
      "application/vnd.jupyter.widget-view+json": {
       "model_id": "90f2470add5f4204894f776e74f6df74",
       "version_major": 2,
       "version_minor": 0
      },
      "text/plain": [
       "DatePicker(value=datetime.datetime(2021, 3, 3, 12, 53, 7, 26387), description='Start Date')"
      ]
     },
     "metadata": {},
     "output_type": "display_data"
    },
    {
     "data": {
      "application/vnd.jupyter.widget-view+json": {
       "model_id": "5fa01515702d48f880c28fac7844d786",
       "version_major": 2,
       "version_minor": 0
      },
      "text/plain": [
       "DatePicker(value=datetime.datetime(2021, 11, 1, 0, 0), description='End Date')"
      ]
     },
     "metadata": {},
     "output_type": "display_data"
    },
    {
     "data": {
      "application/vnd.jupyter.widget-view+json": {
       "model_id": "3c86f792e7a64edd94da2917e3e5e790",
       "version_major": 2,
       "version_minor": 0
      },
      "text/plain": [
       "SelectMultiple(description='Teams', index=(0, 1, 2, 3, 4, 5, 6, 7, 8, 9, 10, 11, 12, 13, 14, 15, 16, 17, 18, 1…"
      ]
     },
     "metadata": {},
     "output_type": "display_data"
    },
    {
     "data": {
      "application/vnd.jupyter.widget-view+json": {
       "model_id": "908d880a30244f18a94ce81acb84f22e",
       "version_major": 2,
       "version_minor": 0
      },
      "text/plain": [
       "SelectMultiple(description='Start teams', index=(0, 1, 2, 3, 4, 5, 6, 7, 8, 9, 10, 11, 12, 13, 14, 15, 16, 17,…"
      ]
     },
     "metadata": {},
     "output_type": "display_data"
    },
    {
     "data": {
      "application/vnd.jupyter.widget-view+json": {
       "model_id": "04e2556327c642a48445bea68ba89d3f",
       "version_major": 2,
       "version_minor": 0
      },
      "text/plain": [
       "SelectMultiple(description='End teams', index=(0, 1, 2, 3, 4, 5, 6, 7, 8, 9, 10, 11, 12, 13, 14, 15, 16, 17, 1…"
      ]
     },
     "metadata": {},
     "output_type": "display_data"
    },
    {
     "data": {
      "application/vnd.jupyter.widget-view+json": {
       "model_id": "14460639b6d04ea28d55a30371fc2d51",
       "version_major": 2,
       "version_minor": 0
      },
      "text/plain": [
       "IntSlider(value=25, description='Distance/Time coefficient')"
      ]
     },
     "metadata": {},
     "output_type": "display_data"
    },
    {
     "data": {
      "application/vnd.jupyter.widget-view+json": {
       "model_id": "bde44ac29fa84b79b0d5359324415a9e",
       "version_major": 2,
       "version_minor": 0
      },
      "text/plain": [
       "IntSlider(value=70, description='Miles per hour')"
      ]
     },
     "metadata": {},
     "output_type": "display_data"
    },
    {
     "data": {
      "application/vnd.jupyter.widget-view+json": {
       "model_id": "0a74f06ced9e42d59aba8a4703ef8d65",
       "version_major": 2,
       "version_minor": 0
      },
      "text/plain": [
       "IntSlider(value=10, description='Maximum travel hours per day', max=24)"
      ]
     },
     "metadata": {},
     "output_type": "display_data"
    }
   ],
   "source": [
    "import ipywidgets as widgets\n",
    "import datetime\n",
    "import json\n",
    "\n",
    "with open('data/teams.json') as file:\n",
    "  teams = json.load(file)\n",
    "\n",
    "now = datetime.datetime.now()\n",
    "\n",
    "w_start_date = widgets.DatePicker(\n",
    "    description='Start Date',\n",
    "    disabled=False,\n",
    "    value=now\n",
    ")\n",
    "w_end_date = widgets.DatePicker(\n",
    "    description='End Date',\n",
    "    disabled=False,\n",
    "    value=datetime.datetime(now.year,11,1)\n",
    ")\n",
    "\n",
    "team_option_list=[]\n",
    "team_option_value=[]\n",
    "for team in teams:\n",
    "    if team['teamName'] != 'None':\n",
    "        item = (team['teamName'],team['id'])\n",
    "        team_option_list.append(item)\n",
    "        team_option_value.append(team['id'])\n",
    "\n",
    "w_select_teams = widgets.SelectMultiple(\n",
    "    options=team_option_list,\n",
    "    description='Teams',\n",
    "    disabled=False,\n",
    "    value=team_option_value\n",
    ")\n",
    "\n",
    "w_select_start_teams = widgets.SelectMultiple(\n",
    "    options=team_option_list,\n",
    "    description='Start teams',\n",
    "    disabled=False,\n",
    "    value=team_option_value\n",
    ")\n",
    "\n",
    "w_select_end_teams = widgets.SelectMultiple(\n",
    "    options=team_option_list,\n",
    "    description='End teams',\n",
    "    disabled=False,\n",
    "    value=team_option_value\n",
    ")\n",
    "\n",
    "def update_start_end_options(*args):\n",
    "    options=[]\n",
    "    values=[]\n",
    "    selected_teams = set(w_select_teams.value)\n",
    "    for team in teams:\n",
    "        if team['id'] in selected_teams:\n",
    "            item = (team['teamName'],team['id'])\n",
    "            options.append(item)\n",
    "            values.append(team['id'])\n",
    "    w_select_start_teams.options = options\n",
    "    w_select_start_teams.value = values\n",
    "    w_select_end_teams.options = options\n",
    "    w_select_end_teams.value = values\n",
    "w_select_teams.observe(update_start_end_options, 'value')\n",
    "\n",
    "w_distance_time_coefficient = widgets.IntSlider(\n",
    "    value=25,\n",
    "    min=0,\n",
    "    max=100,\n",
    "    step=1,\n",
    "    disabled=False,\n",
    "    description='Distance/Time coefficient',\n",
    "    continuous_update=True,\n",
    "    orientation='horizontal',\n",
    "    readout=True,\n",
    "    readout_format='d'\n",
    ")\n",
    "\n",
    "w_speed = widgets.IntSlider(\n",
    "    value=70,\n",
    "    min=0,\n",
    "    max=100,\n",
    "    step=1,\n",
    "    disabled=False,\n",
    "    description='Miles per hour',\n",
    "    continuous_update=True,\n",
    "    orientation='horizontal',\n",
    "    readout=True,\n",
    "    readout_format='d'\n",
    ")\n",
    "\n",
    "w_travel_hours_per_day = widgets.IntSlider(\n",
    "    value=10,\n",
    "    min=0,\n",
    "    max=24,\n",
    "    step=1,\n",
    "    disabled=False,\n",
    "    description='Maximum travel hours per day',\n",
    "    continuous_update=True,\n",
    "    orientation='horizontal',\n",
    "    readout=True,\n",
    "    readout_format='d'\n",
    ")\n",
    "    \n",
    "display(w_start_date, w_end_date, w_select_teams, \n",
    "        w_select_start_teams, w_select_end_teams,\n",
    "        w_distance_time_coefficient,  w_speed,  w_travel_hours_per_day)\n"
   ]
  },
  {
   "cell_type": "markdown",
   "id": "dying-syndicate",
   "metadata": {},
   "source": [
    "Append a fake team for the final game"
   ]
  },
  {
   "cell_type": "code",
   "execution_count": 5,
   "id": "adjusted-spotlight",
   "metadata": {},
   "outputs": [],
   "source": [
    "start_date = w_start_date.value\n",
    "end_date = w_end_date.value\n",
    "\n",
    "distance_time_coefficient=w_distance_time_coefficient.value\n",
    "speed=w_speed.value\n",
    "max_travel_hours_per_day=w_travel_hours_per_day.value\n",
    "\n",
    "\n",
    "teams_by_distance_matrix_id = {}\n",
    "for team in teams:\n",
    "    teams_by_distance_matrix_id[team['distanceMatrixId']]=team\n",
    "\n",
    "start_teams=list(w_select_start_teams.value)\n",
    "end_teams=list(w_select_end_teams.value)\n",
    "teams_to_attend = list(w_select_teams.value)\n",
    "teams_to_attend.append(31)\n"
   ]
  },
  {
   "cell_type": "markdown",
   "id": "difficult-carroll",
   "metadata": {},
   "source": [
    "Load the distance matrix"
   ]
  },
  {
   "cell_type": "code",
   "execution_count": 6,
   "id": "covered-rescue",
   "metadata": {},
   "outputs": [],
   "source": [
    "import csv\n",
    "import numpy as np\n",
    "\n",
    "distance_matrix = np.array(np.zeros((32,32)), dtype=np.int64)\n",
    "firstLine = True;\n",
    "\n",
    "with open('data/distance matrix.csv') as file:\n",
    "    reader = csv.reader(file)\n",
    "    for row in reader:\n",
    "        if not firstLine:\n",
    "            from_team = int(row[0])\n",
    "            to_team = int(row[1])\n",
    "            distance = int(row[4])\n",
    "            from_team_id = teams_by_distance_matrix_id[from_team]['id']\n",
    "            to_team_id = teams_by_distance_matrix_id[to_team]['id']\n",
    "            distance_matrix[from_team_id][to_team_id] = distance\n",
    "        else:\n",
    "            firstLine = False;"
   ]
  },
  {
   "cell_type": "markdown",
   "id": "regulation-davis",
   "metadata": {},
   "source": [
    "Load games from the statsapi.mlb.com web service."
   ]
  },
  {
   "cell_type": "code",
   "execution_count": 7,
   "id": "preliminary-bowling",
   "metadata": {},
   "outputs": [],
   "source": [
    "import datetime\n",
    "import json\n",
    "import urllib.request\n",
    "\n",
    "games = []\n",
    "gameId = 0;\n",
    "\n",
    "# append a fake first game so the id always matches the \n",
    "games.append({})\n",
    "games[gameId]['date']=start_date\n",
    "games[gameId]['id']=gameId\n",
    "games[gameId]['teamId']=31\n",
    "gameId=gameId+1\n",
    "\n",
    "for team_id in teams_to_attend:\n",
    "    response = urllib.request.urlopen('https://statsapi.mlb.com/api/v1/schedule?lang=en&sportId=1&hydrate=venue&season={}&startDate={}&endDate={}&teamId={}&gameType=R&scheduleTypes=games'\n",
    "                              .format(start_date.year,start_date.strftime(\"%Y-%m-%d\"),end_date.strftime(\"%Y-%m-%d\"),teams[team_id]['mlbTeamId']))\n",
    "    schedule = json.load(response)\n",
    "    for current in schedule['dates']:\n",
    "        home_team_id = current['games'][0]['teams']['home']['team']['id']\n",
    "        if teams[team_id]['mlbTeamId'] == home_team_id:\n",
    "            date = current['date'].split('-')\n",
    "            date_value=datetime.datetime(int(date[0]),int(date[1]),int(date[2]))\n",
    "            game = {}\n",
    "            game['id'] = gameId\n",
    "            game['teamId'] = team_id\n",
    "            game['date']=date_value\n",
    "            if date_value<=end_date and date_value>=start_date and team_id in teams_to_attend:\n",
    "                games.append(game)\n",
    "                gameId = gameId + 1\n",
    "final_game=gameId\n",
    "games.append({})\n",
    "games[final_game]['date']=end_date\n",
    "games[final_game]['id']=final_game\n",
    "games[final_game]['teamId']=31"
   ]
  },
  {
   "cell_type": "markdown",
   "id": "communist-compound",
   "metadata": {},
   "source": [
    "initialize the next_game, weights, and home_teams lookup tables"
   ]
  },
  {
   "cell_type": "code",
   "execution_count": 8,
   "id": "molecular-trance",
   "metadata": {},
   "outputs": [],
   "source": [
    "next_games = np.array(np.zeros((len(games),32)), dtype=np.int64)\n",
    "weights = np.array(np.ones((len(games),32)), dtype=np.int64)\n",
    "home_teams= np.array(np.zeros(len(games)), dtype=np.int64)\n",
    "for game in games:\n",
    "    home_teams[game['id']]=31\n",
    "    for team in range(1,32):\n",
    "        next_games[game['id']][team] = final_game\n"
   ]
  },
  {
   "cell_type": "markdown",
   "id": "vocal-indonesia",
   "metadata": {},
   "source": [
    "Calculate the next games graph and weights"
   ]
  },
  {
   "cell_type": "code",
   "execution_count": 9,
   "id": "governing-european",
   "metadata": {},
   "outputs": [],
   "source": [
    "import math\n",
    "\n",
    "date_sorted_games = []\n",
    "for game in games:\n",
    "    date_sorted_games.append(games[game['id']])\n",
    "\n",
    "\n",
    "def dateAccessor(value):\n",
    "    return value['date']\n",
    "\n",
    "\n",
    "def cost(from_game_id, to_game_id, distance_time_coefficient):\n",
    "    coefficient = distance_time_coefficient / 100\n",
    "    from_game=games[from_game_id]\n",
    "    to_game=games[to_game_id]\n",
    "    distance=distance_matrix[from_game['teamId']][to_game['teamId']]\n",
    "    minutes=0\n",
    "    if to_game['id']!=final_game:\n",
    "        minutes = (to_game['date']-from_game['date']).total_seconds() / 60\n",
    "    return coefficient * minutes + (1-coefficient) * distance\n",
    "\n",
    "date_sorted_games.sort(key=dateAccessor)\n",
    "for i in range(0,len(date_sorted_games)):\n",
    "    game = date_sorted_games[i]\n",
    "    from_team = game['teamId']\n",
    "    for team in range(1,32):\n",
    "        for j in range(i+1,len(date_sorted_games)):\n",
    "            next_game = date_sorted_games[j]\n",
    "            home_teams[game['id']]=game['teamId']\n",
    "            to_team = next_game['teamId']\n",
    "            if(to_team == team):\n",
    "                distance = distance_matrix[from_team][to_team]\n",
    "                days = math.ceil(distance / speed / max_travel_hours_per_day )\n",
    "                mindate = game['date'] + datetime.timedelta(days=days)\n",
    "                if mindate <= next_game['date']:\n",
    "                    next_games[game['id']][to_team] = next_game['id']\n",
    "                    weights[game['id']][to_team] = cost(game['id'],next_games[game['id']][to_team],distance_time_coefficient)\n",
    "                    break\n",
    "for i in range(0,len(next_games)):\n",
    "    next_games[i][31]=final_game"
   ]
  },
  {
   "cell_type": "markdown",
   "id": "inside-batman",
   "metadata": {},
   "source": [
    "NumPy ndarray is not json serailizable so need to cast it out to json, then parse it back in to force it."
   ]
  },
  {
   "cell_type": "code",
   "execution_count": 10,
   "id": "medieval-accent",
   "metadata": {},
   "outputs": [],
   "source": [
    "def default_json(obj):\n",
    "    if type(obj).__module__ == np.__name__:\n",
    "        if isinstance(obj, np.ndarray):\n",
    "            return obj.tolist()\n",
    "        else:\n",
    "            return obj.item()\n",
    "    raise TypeError('Unknown type:', type(obj))\n",
    "\n",
    "def jsonify(obj):\n",
    "    serialized=json.dumps(obj,default=default_json)\n",
    "    return json.loads(serialized)\n",
    "\n",
    "def sum_cost(game_ids, distance_time_coefficient):\n",
    "    value = 0\n",
    "    for i in range(len(game_ids)-1):\n",
    "        value = value + cost(game_ids[i],game_ids[i+1],distance_time_coefficient)\n",
    "    return value\n",
    "\n",
    "def print_games(game_ids):\n",
    "    for i in range(len(game_ids)-1):\n",
    "        print('{}: {} - {} ${} {} days {} miles'\n",
    "              .format(games[game_ids[i]]['id'], \n",
    "                      games[game_ids[i]]['date'], \n",
    "                      teams[home_teams[game_ids[i]]]['teamName'], \n",
    "                      cost(game_ids[i],game_ids[i+1],distance_time_coefficient),\n",
    "                      cost(game_ids[i],game_ids[i+1],100)/60/24,\n",
    "                      cost(game_ids[i],game_ids[i+1],0)))\n",
    "    total_seconds = (games[game_ids[len(game_ids)-2]]['date']-games[game_ids[0]]['date']).total_seconds()\n",
    "    total_days = total_seconds / 60 / 60 / 24\n",
    "    total_distance = sum_cost(game_ids,0)\n",
    "    print('Total days:{} Total distance (miles):{}'\n",
    "         .format(total_days, total_distance))\n",
    "        \n",
    "        "
   ]
  },
  {
   "cell_type": "markdown",
   "id": "hearing-ferry",
   "metadata": {},
   "source": [
    "Write data file as json"
   ]
  },
  {
   "cell_type": "code",
   "execution_count": 11,
   "id": "potential-yield",
   "metadata": {},
   "outputs": [],
   "source": [
    "import json\n",
    "\n",
    "data={\n",
    "    \"GAMES\":list(range(1,len(games))),\n",
    "    \"weights\":jsonify(weights[1:,1:]),\n",
    "    \"next_games\":jsonify(next_games[1:,1:]),\n",
    "    \"home_teams\":jsonify(home_teams[1:]),\n",
    "    \"teams_to_attend\":teams_to_attend,\n",
    "    \"start_teams\":start_teams,\n",
    "    \"end_teams\":end_teams\n",
    "}\n",
    "with open('data.json', 'w') as file:\n",
    "    json.dump(data, file)"
   ]
  },
  {
   "cell_type": "markdown",
   "id": "inner-breakdown",
   "metadata": {},
   "source": [
    "Run the model. This can take several minutes depending on the number of games, the number of start teams and the number of end teams. "
   ]
  },
  {
   "cell_type": "code",
   "execution_count": 12,
   "id": "incredible-trustee",
   "metadata": {
    "scrolled": true
   },
   "outputs": [
    {
     "name": "stdout",
     "output_type": "stream",
     "text": [
      "82: 2021-04-09 00:00:00 - Arizona Diamondbacks $2433.0 3.0 days 1804.0 miles\n",
      "247: 2021-04-12 00:00:00 - Chicago White Sox $2180.25 4.0 days 987.0 miles\n",
      "169: 2021-04-16 00:00:00 - Boston Red Sox $2820.0 7.0 days 400.0 miles\n",
      "8: 2021-04-23 00:00:00 - Baltimore Orioles $0.0 0.0 days 0.0 miles\n",
      "Total days:14.0 Total distance (miles):3191.0\n",
      "---------------------\n",
      "83: 2021-04-10 00:00:00 - Arizona Diamondbacks $2433.0 3.0 days 1804.0 miles\n",
      "248: 2021-04-13 00:00:00 - Chicago White Sox $1820.25 3.0 days 987.0 miles\n",
      "169: 2021-04-16 00:00:00 - Boston Red Sox $2820.0 7.0 days 400.0 miles\n",
      "8: 2021-04-23 00:00:00 - Baltimore Orioles $0.0 0.0 days 0.0 miles\n",
      "Total days:13.0 Total distance (miles):3191.0\n",
      "---------------------\n",
      "84: 2021-04-11 00:00:00 - Arizona Diamondbacks $2433.0 3.0 days 1804.0 miles\n",
      "249: 2021-04-14 00:00:00 - Chicago White Sox $1460.25 2.0 days 987.0 miles\n",
      "169: 2021-04-16 00:00:00 - Boston Red Sox $2820.0 7.0 days 400.0 miles\n",
      "8: 2021-04-23 00:00:00 - Baltimore Orioles $0.0 0.0 days 0.0 miles\n",
      "Total days:12.0 Total distance (miles):3191.0\n",
      "---------------------\n",
      "85: 2021-04-12 00:00:00 - Arizona Diamondbacks $2433.0 3.0 days 1804.0 miles\n",
      "250: 2021-04-15 00:00:00 - Chicago White Sox $1460.25 2.0 days 987.0 miles\n",
      "170: 2021-04-17 00:00:00 - Boston Red Sox $2460.0 6.0 days 400.0 miles\n",
      "8: 2021-04-23 00:00:00 - Baltimore Orioles $0.0 0.0 days 0.0 miles\n",
      "Total days:11.0 Total distance (miles):3191.0\n",
      "---------------------\n",
      "87: 2021-04-27 00:00:00 - Arizona Diamondbacks $2433.0 3.0 days 1804.0 miles\n",
      "257: 2021-04-30 00:00:00 - Chicago White Sox $2180.25 4.0 days 987.0 miles\n",
      "179: 2021-05-04 00:00:00 - Boston Red Sox $1380.0 3.0 days 400.0 miles\n",
      "15: 2021-05-07 00:00:00 - Baltimore Orioles $0.0 0.0 days 0.0 miles\n",
      "Total days:10.0 Total distance (miles):3191.0\n",
      "---------------------\n",
      "88: 2021-04-28 00:00:00 - Arizona Diamondbacks $2433.0 3.0 days 1804.0 miles\n",
      "258: 2021-05-01 00:00:00 - Chicago White Sox $1820.25 3.0 days 987.0 miles\n",
      "179: 2021-05-04 00:00:00 - Boston Red Sox $1380.0 3.0 days 400.0 miles\n",
      "15: 2021-05-07 00:00:00 - Baltimore Orioles $0.0 0.0 days 0.0 miles\n",
      "Total days:9.0 Total distance (miles):3191.0\n",
      "---------------------\n",
      "89: 2021-04-29 00:00:00 - Arizona Diamondbacks $2433.0 3.0 days 1804.0 miles\n",
      "259: 2021-05-02 00:00:00 - Chicago White Sox $1460.25 2.0 days 987.0 miles\n",
      "179: 2021-05-04 00:00:00 - Boston Red Sox $1380.0 3.0 days 400.0 miles\n",
      "15: 2021-05-07 00:00:00 - Baltimore Orioles $0.0 0.0 days 0.0 miles\n",
      "Total days:8.0 Total distance (miles):3191.0\n",
      "---------------------\n",
      "93: 2021-05-10 00:00:00 - Arizona Diamondbacks $2433.0 3.0 days 1804.0 miles\n",
      "262: 2021-05-13 00:00:00 - Chicago White Sox $1460.25 2.0 days 987.0 miles\n",
      "186: 2021-05-15 00:00:00 - Boston Red Sox $660.0 1.0 days 400.0 miles\n",
      "21: 2021-05-16 00:00:00 - Baltimore Orioles $0.0 0.0 days 0.0 miles\n",
      "Total days:6.0 Total distance (miles):3191.0\n",
      "---------------------\n",
      "optimal solution found\n",
      "---------------------\n",
      "---------------------\n",
      "OPTIMAL_SOLUTION\n",
      "{'initTime': datetime.timedelta(microseconds=12072), 'solveTime': datetime.timedelta(microseconds=3297), 'solutions': 8, 'variables': 18, 'propagators': 21, 'propagations': 1034, 'nodes': 25, 'failures': 5, 'restarts': 0, 'peakDepth': 6, 'nSolutions': 8, 'time': datetime.timedelta(microseconds=90000)}\n"
     ]
    }
   ],
   "source": [
    "import minizinc as mzn\n",
    "\n",
    "model = mzn.Model('./BaseballModel.mzn')\n",
    "    \n",
    "# Find the MiniZinc solver configuration for Gecode\n",
    "gecode = mzn.Solver.lookup(\"gecode\")\n",
    "# Create an Instance of the baseball schedule solver model for Gecode\n",
    "instance = mzn.Instance(gecode, model)\n",
    "instance.add_file('data.json')\n",
    "\n",
    "result = instance.solutions(intermediate_solutions=True)\n",
    "final=None\n",
    "async for solution in result:\n",
    "    if solution.status.has_solution() and solution.status is not mzn.result.Status.OPTIMAL_SOLUTION:\n",
    "        print_games(solution['path'])\n",
    "        final=solution\n",
    "        print('---------------------')\n",
    "    elif solution.status.has_solution() and solution.status is mzn.result.Status.OPTIMAL_SOLUTION:\n",
    "        print('optimal solution found')\n",
    "        final=solution\n",
    "        print('---------------------')        \n",
    "print('---------------------')     \n",
    "print(final.status)\n",
    "print(final.statistics)\n"
   ]
  },
  {
   "cell_type": "code",
   "execution_count": null,
   "id": "equivalent-vocabulary",
   "metadata": {},
   "outputs": [],
   "source": []
  },
  {
   "cell_type": "code",
   "execution_count": null,
   "id": "filled-flashing",
   "metadata": {},
   "outputs": [],
   "source": []
  }
 ],
 "metadata": {
  "kernelspec": {
   "display_name": "Python 3",
   "language": "python",
   "name": "python3"
  },
  "language_info": {
   "codemirror_mode": {
    "name": "ipython",
    "version": 3
   },
   "file_extension": ".py",
   "mimetype": "text/x-python",
   "name": "python",
   "nbconvert_exporter": "python",
   "pygments_lexer": "ipython3",
   "version": "3.9.2"
  },
  "toc-autonumbering": true,
  "toc-showcode": true,
  "toc-showmarkdowntxt": true
 },
 "nbformat": 4,
 "nbformat_minor": 5
}
